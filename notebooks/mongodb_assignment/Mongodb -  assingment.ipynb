{
 "cells": [
  {
   "cell_type": "markdown",
   "metadata": {},
   "source": [
    "## Imports and setup"
   ]
  },
  {
   "cell_type": "code",
   "execution_count": 2,
   "metadata": {},
   "outputs": [],
   "source": [
    "from pymongo import MongoClient\n",
    "from pymongo.errors import BulkWriteError\n",
    "import pymongo\n",
    "from pymongo import UpdateOne\n",
    "import sqlite3\n",
    "import pandas as pd"
   ]
  },
  {
   "cell_type": "code",
   "execution_count": 2,
   "metadata": {},
   "outputs": [],
   "source": [
    "# If working on colab:\n",
    "# Uncomment the next lines and supply your own mongodb connection string on the next cell\n",
    "# !wget https://github.com/LambdaSchool/DS-Unit-3-Sprint-2-SQL-and-Databases/blob/master/module1-introduction-to-sql/rpg_db.sqlite3"
   ]
  },
  {
   "cell_type": "code",
   "execution_count": 3,
   "metadata": {},
   "outputs": [],
   "source": [
    "# connect to mongodb\n",
    "client = MongoClient('mongodb://mongo:27017/')\n",
    "mydb = client['rpg']\n",
    "char_record = mydb['character']"
   ]
  },
  {
   "cell_type": "code",
   "execution_count": 4,
   "metadata": {},
   "outputs": [],
   "source": [
    "# sqlite connection\n",
    "con = sqlite3.connect('rpg_db.sqlite3')\n",
    "cur = con.cursor()\n",
    "classes = [\n",
    "    'charactercreator_cleric',\n",
    "    'charactercreator_fighter',\n",
    "    'charactercreator_mage',\n",
    "    'charactercreator_thief',\n",
    "    'charactercreator_necromancer'\n",
    "]\n",
    "\n",
    "# Because pandas is really convinient\n",
    "def sql_df(query, con=con):\n",
    "    '''\n",
    "    Takes an sql query string and a db connection object and outputs\n",
    "    a pandas dataframe from the results\n",
    "    '''\n",
    "    return pd.read_sql(query, con)"
   ]
  },
  {
   "cell_type": "markdown",
   "metadata": {},
   "source": [
    "## Insert Character data from the charactercreator_character table to our mongo database"
   ]
  },
  {
   "cell_type": "code",
   "execution_count": 5,
   "metadata": {},
   "outputs": [],
   "source": [
    "\n",
    "result = char_record.create_index([('character_id', pymongo.ASCENDING)], unique=True)\n",
    "characters = sql_df('SELECT * FROM charactercreator_character').to_dict(orient='records')\n",
    "# Load data if not loaded already\n",
    "try:\n",
    "    result = char_record.insert_many(characters)\n",
    "except BulkWriteError as e:\n",
    "        print('Record already written')"
   ]
  },
  {
   "cell_type": "markdown",
   "metadata": {},
   "source": [
    "### Compare Entries (chracter_id: 1)"
   ]
  },
  {
   "cell_type": "code",
   "execution_count": 6,
   "metadata": {},
   "outputs": [
    {
     "data": {
      "text/html": [
       "<div>\n",
       "<style scoped>\n",
       "    .dataframe tbody tr th:only-of-type {\n",
       "        vertical-align: middle;\n",
       "    }\n",
       "\n",
       "    .dataframe tbody tr th {\n",
       "        vertical-align: top;\n",
       "    }\n",
       "\n",
       "    .dataframe thead th {\n",
       "        text-align: right;\n",
       "    }\n",
       "</style>\n",
       "<table border=\"1\" class=\"dataframe\">\n",
       "  <thead>\n",
       "    <tr style=\"text-align: right;\">\n",
       "      <th></th>\n",
       "      <th>character_id</th>\n",
       "      <th>name</th>\n",
       "      <th>level</th>\n",
       "      <th>exp</th>\n",
       "      <th>hp</th>\n",
       "      <th>strength</th>\n",
       "      <th>intelligence</th>\n",
       "      <th>dexterity</th>\n",
       "      <th>wisdom</th>\n",
       "    </tr>\n",
       "  </thead>\n",
       "  <tbody>\n",
       "    <tr>\n",
       "      <th>0</th>\n",
       "      <td>1</td>\n",
       "      <td>Aliquid iste optio reiciendi</td>\n",
       "      <td>0</td>\n",
       "      <td>0</td>\n",
       "      <td>10</td>\n",
       "      <td>1</td>\n",
       "      <td>1</td>\n",
       "      <td>1</td>\n",
       "      <td>1</td>\n",
       "    </tr>\n",
       "  </tbody>\n",
       "</table>\n",
       "</div>"
      ],
      "text/plain": [
       "   character_id                          name  level  exp  hp  strength  \\\n",
       "0             1  Aliquid iste optio reiciendi      0    0  10         1   \n",
       "\n",
       "   intelligence  dexterity  wisdom  \n",
       "0             1          1       1  "
      ]
     },
     "execution_count": 6,
     "metadata": {},
     "output_type": "execute_result"
    }
   ],
   "source": [
    "sql_df('SELECT * FROM charactercreator_character WHERE character_id = 1')"
   ]
  },
  {
   "cell_type": "code",
   "execution_count": 7,
   "metadata": {},
   "outputs": [
    {
     "data": {
      "text/plain": [
       "{'_id': ObjectId('5dc3bd315d4910a3230f05a5'),\n",
       " 'character_id': 1,\n",
       " 'name': 'Aliquid iste optio reiciendi',\n",
       " 'level': 0,\n",
       " 'exp': 0,\n",
       " 'hp': 10,\n",
       " 'strength': 1,\n",
       " 'intelligence': 1,\n",
       " 'dexterity': 1,\n",
       " 'wisdom': 1}"
      ]
     },
     "execution_count": 7,
     "metadata": {},
     "output_type": "execute_result"
    }
   ],
   "source": [
    "char_record.find_one({'character_id': 1})"
   ]
  },
  {
   "cell_type": "markdown",
   "metadata": {},
   "source": [
    "### Insert Character data from other tables"
   ]
  },
  {
   "cell_type": "code",
   "execution_count": 8,
   "metadata": {},
   "outputs": [
    {
     "data": {
      "text/plain": [
       "<pymongo.results.BulkWriteResult at 0x7fb5421ff870>"
      ]
     },
     "execution_count": 8,
     "metadata": {},
     "output_type": "execute_result"
    }
   ],
   "source": [
    "# RPG Classes\n",
    "base_classes = [\n",
    "    'charactercreator_cleric',\n",
    "    'charactercreator_fighter',\n",
    "    'charactercreator_mage',\n",
    "    'charactercreator_thief',\n",
    "    'charactercreator_necromancer'\n",
    "]\n",
    "# Merge the class data to character record\n",
    "\n",
    "# Track char classes\n",
    "char_classes = {}\n",
    "# List of operations for bulk writing\n",
    "operations = []\n",
    "for cls in base_classes:\n",
    "    for rec in sql_df(f'SELECT * FROM {cls}').to_dict(orient='records'):\n",
    "        # Handle special case\n",
    "        # Necrmonacer is a subclass of mage\n",
    "        char_foreign_key = 'mage_ptr_id' if cls == 'charactercreator_necromancer'\\\n",
    "        else 'character_ptr_id'\n",
    "        character_id = rec.pop(char_foreign_key)\n",
    "        #use the last word for class name\n",
    "        class_name = cls.split('_')[-1]\n",
    "        rec[class_name] = True\n",
    "        char_classes.setdefault(character_id,[]).append(class_name)\n",
    "        rec['classes'] = char_classes[character_id]\n",
    "        rec['items'] = []\n",
    "        query = {'character_id': character_id}\n",
    "        operations.append(UpdateOne(query, {'$set': rec}, upsert=True))\n",
    "# Execute bulk operations\n",
    "char_record.bulk_write(operations)"
   ]
  },
  {
   "cell_type": "markdown",
   "metadata": {},
   "source": [
    "### Compare!"
   ]
  },
  {
   "cell_type": "code",
   "execution_count": 9,
   "metadata": {},
   "outputs": [
    {
     "data": {
      "text/html": [
       "<div>\n",
       "<style scoped>\n",
       "    .dataframe tbody tr th:only-of-type {\n",
       "        vertical-align: middle;\n",
       "    }\n",
       "\n",
       "    .dataframe tbody tr th {\n",
       "        vertical-align: top;\n",
       "    }\n",
       "\n",
       "    .dataframe thead th {\n",
       "        text-align: right;\n",
       "    }\n",
       "</style>\n",
       "<table border=\"1\" class=\"dataframe\">\n",
       "  <thead>\n",
       "    <tr style=\"text-align: right;\">\n",
       "      <th></th>\n",
       "      <th>character_id</th>\n",
       "      <th>name</th>\n",
       "      <th>level</th>\n",
       "      <th>exp</th>\n",
       "      <th>hp</th>\n",
       "      <th>strength</th>\n",
       "      <th>intelligence</th>\n",
       "      <th>dexterity</th>\n",
       "      <th>wisdom</th>\n",
       "      <th>character_ptr_id</th>\n",
       "      <th>using_shield</th>\n",
       "      <th>rage</th>\n",
       "      <th>fighter</th>\n",
       "    </tr>\n",
       "  </thead>\n",
       "  <tbody>\n",
       "    <tr>\n",
       "      <th>0</th>\n",
       "      <td>1</td>\n",
       "      <td>Aliquid iste optio reiciendi</td>\n",
       "      <td>0</td>\n",
       "      <td>0</td>\n",
       "      <td>10</td>\n",
       "      <td>1</td>\n",
       "      <td>1</td>\n",
       "      <td>1</td>\n",
       "      <td>1</td>\n",
       "      <td>1</td>\n",
       "      <td>0</td>\n",
       "      <td>100</td>\n",
       "      <td>1</td>\n",
       "    </tr>\n",
       "  </tbody>\n",
       "</table>\n",
       "</div>"
      ],
      "text/plain": [
       "   character_id                          name  level  exp  hp  strength  \\\n",
       "0             1  Aliquid iste optio reiciendi      0    0  10         1   \n",
       "\n",
       "   intelligence  dexterity  wisdom  character_ptr_id  using_shield  rage  \\\n",
       "0             1          1       1                 1             0   100   \n",
       "\n",
       "   fighter  \n",
       "0        1  "
      ]
     },
     "execution_count": 9,
     "metadata": {},
     "output_type": "execute_result"
    }
   ],
   "source": [
    "# How do we know which class/es a character belongs to?\n",
    "# Lots of joins!\n",
    "base_query = 'SELECT * FROM charactercreator_character as cc'\n",
    "def join_query(tablename):\n",
    "    char_foreign_key = 'mage_ptr_id' if tablename == 'charactercreator_necromancer'\\\n",
    "    else 'character_ptr_id'\n",
    "    class_name = tablename.split('_')[-1]\n",
    "    return f'''\n",
    "        LEFT JOIN (SELECT *, True AS {class_name} FROM  {tablename}) {class_name}\\\n",
    "        ON cc.character_id = {class_name}.{char_foreign_key}\n",
    "        '''\n",
    "sql_df(\n",
    "    base_query + ' '.join([join_query(x) for x in classes])+\n",
    "    'WHERE cc.character_id=1'\n",
    ").dropna(axis=1)\n"
   ]
  },
  {
   "cell_type": "code",
   "execution_count": 10,
   "metadata": {},
   "outputs": [
    {
     "data": {
      "text/plain": [
       "{'_id': ObjectId('5dc3bd315d4910a3230f05a5'),\n",
       " 'character_id': 1,\n",
       " 'name': 'Aliquid iste optio reiciendi',\n",
       " 'level': 0,\n",
       " 'exp': 0,\n",
       " 'hp': 10,\n",
       " 'strength': 1,\n",
       " 'intelligence': 1,\n",
       " 'dexterity': 1,\n",
       " 'wisdom': 1,\n",
       " 'classes': ['fighter'],\n",
       " 'fighter': True,\n",
       " 'items': [],\n",
       " 'rage': 100,\n",
       " 'using_shield': 0}"
      ]
     },
     "execution_count": 10,
     "metadata": {},
     "output_type": "execute_result"
    }
   ],
   "source": [
    "char_record.find_one({'character_id': 1})"
   ]
  },
  {
   "cell_type": "code",
   "execution_count": 11,
   "metadata": {},
   "outputs": [
    {
     "data": {
      "text/html": [
       "<div>\n",
       "<style scoped>\n",
       "    .dataframe tbody tr th:only-of-type {\n",
       "        vertical-align: middle;\n",
       "    }\n",
       "\n",
       "    .dataframe tbody tr th {\n",
       "        vertical-align: top;\n",
       "    }\n",
       "\n",
       "    .dataframe thead th {\n",
       "        text-align: right;\n",
       "    }\n",
       "</style>\n",
       "<table border=\"1\" class=\"dataframe\">\n",
       "  <thead>\n",
       "    <tr style=\"text-align: right;\">\n",
       "      <th></th>\n",
       "      <th>character_id</th>\n",
       "      <th>name</th>\n",
       "      <th>level</th>\n",
       "      <th>exp</th>\n",
       "      <th>hp</th>\n",
       "      <th>strength</th>\n",
       "      <th>intelligence</th>\n",
       "      <th>dexterity</th>\n",
       "      <th>wisdom</th>\n",
       "      <th>character_ptr_id</th>\n",
       "      <th>has_pet</th>\n",
       "      <th>mana</th>\n",
       "      <th>mage</th>\n",
       "      <th>mage_ptr_id</th>\n",
       "      <th>talisman_charged</th>\n",
       "      <th>necromancer</th>\n",
       "    </tr>\n",
       "  </thead>\n",
       "  <tbody>\n",
       "    <tr>\n",
       "      <th>0</th>\n",
       "      <td>292</td>\n",
       "      <td>Vero a</td>\n",
       "      <td>0</td>\n",
       "      <td>0</td>\n",
       "      <td>10</td>\n",
       "      <td>1</td>\n",
       "      <td>1</td>\n",
       "      <td>1</td>\n",
       "      <td>1</td>\n",
       "      <td>292</td>\n",
       "      <td>1</td>\n",
       "      <td>100</td>\n",
       "      <td>1</td>\n",
       "      <td>292</td>\n",
       "      <td>1</td>\n",
       "      <td>1</td>\n",
       "    </tr>\n",
       "  </tbody>\n",
       "</table>\n",
       "</div>"
      ],
      "text/plain": [
       "   character_id    name  level  exp  hp  strength  intelligence  dexterity  \\\n",
       "0           292  Vero a      0    0  10         1             1          1   \n",
       "\n",
       "   wisdom  character_ptr_id  has_pet  mana  mage  mage_ptr_id  \\\n",
       "0       1               292        1   100     1          292   \n",
       "\n",
       "   talisman_charged  necromancer  \n",
       "0                 1            1  "
      ]
     },
     "execution_count": 11,
     "metadata": {},
     "output_type": "execute_result"
    }
   ],
   "source": [
    "# A characters from different classes have different sets valid atributes\n",
    "sql_df(\n",
    "    base_query + ' '.join([join_query(x) for x in classes])+\n",
    "    'WHERE necromancer=True LIMIT 1'\n",
    ").dropna(axis=1)\n"
   ]
  },
  {
   "cell_type": "code",
   "execution_count": 12,
   "metadata": {},
   "outputs": [
    {
     "data": {
      "text/plain": [
       "{'_id': ObjectId('5dc3bd315d4910a3230f06c8'),\n",
       " 'character_id': 292,\n",
       " 'name': 'Vero a',\n",
       " 'level': 0,\n",
       " 'exp': 0,\n",
       " 'hp': 10,\n",
       " 'strength': 1,\n",
       " 'intelligence': 1,\n",
       " 'dexterity': 1,\n",
       " 'wisdom': 1,\n",
       " 'classes': ['mage', 'necromancer'],\n",
       " 'has_pet': 1,\n",
       " 'items': [],\n",
       " 'mage': True,\n",
       " 'mana': 100,\n",
       " 'necromancer': True,\n",
       " 'talisman_charged': 1}"
      ]
     },
     "execution_count": 12,
     "metadata": {},
     "output_type": "execute_result"
    }
   ],
   "source": [
    "char_record.find_one({'classes': 'necromancer'})"
   ]
  },
  {
   "cell_type": "code",
   "execution_count": 13,
   "metadata": {},
   "outputs": [
    {
     "data": {
      "text/plain": [
       "<pymongo.results.BulkWriteResult at 0x7fb542063c80>"
      ]
     },
     "execution_count": 13,
     "metadata": {},
     "output_type": "execute_result"
    }
   ],
   "source": [
    "# Add items\n",
    "operations = []\n",
    "from math import isnan\n",
    "for rec in sql_df('''\n",
    "        SELECT character_id, ai.item_id, name, value, weight, power, weapon\n",
    "        FROM charactercreator_character_inventory AS ci \n",
    "        JOIN armory_item AS ai ON ci.item_id=ai.item_id\n",
    "        LEFT JOIN (SELECT *, True as weapon FROM armory_weapon) \n",
    "        AS aw on aw.item_ptr_id = ai.item_id\n",
    "        ORDER BY ai.item_id\n",
    "    ''').to_dict(orient='records'):\n",
    "    character_id = rec.pop('character_id')\n",
    "    keys = list(rec.keys())\n",
    "    # Remove nan's as fields\n",
    "    # joining the weapons introduced a lot of nan's to remove\n",
    "    for key in keys:\n",
    "        v = rec[key]     \n",
    "        if type(v) == float and isnan(v):\n",
    "            rec.pop(key)\n",
    "    if rec.get('weapon') == 1:\n",
    "        rec['weapon'] = True\n",
    "    query = {'character_id': character_id}\n",
    "    operations.append(UpdateOne(query, {'$addToSet': {'items': rec}}, upsert=True))\n",
    "char_record.bulk_write(operations)\n"
   ]
  },
  {
   "cell_type": "code",
   "execution_count": 14,
   "metadata": {},
   "outputs": [
    {
     "data": {
      "text/html": [
       "<div>\n",
       "<style scoped>\n",
       "    .dataframe tbody tr th:only-of-type {\n",
       "        vertical-align: middle;\n",
       "    }\n",
       "\n",
       "    .dataframe tbody tr th {\n",
       "        vertical-align: top;\n",
       "    }\n",
       "\n",
       "    .dataframe thead th {\n",
       "        text-align: right;\n",
       "    }\n",
       "</style>\n",
       "<table border=\"1\" class=\"dataframe\">\n",
       "  <thead>\n",
       "    <tr style=\"text-align: right;\">\n",
       "      <th></th>\n",
       "      <th>character_id</th>\n",
       "      <th>item_id</th>\n",
       "      <th>name</th>\n",
       "      <th>value</th>\n",
       "      <th>weight</th>\n",
       "    </tr>\n",
       "  </thead>\n",
       "  <tbody>\n",
       "    <tr>\n",
       "      <th>0</th>\n",
       "      <td>1</td>\n",
       "      <td>20</td>\n",
       "      <td>Dolores rem v</td>\n",
       "      <td>0</td>\n",
       "      <td>0</td>\n",
       "    </tr>\n",
       "    <tr>\n",
       "      <th>1</th>\n",
       "      <td>1</td>\n",
       "      <td>58</td>\n",
       "      <td>Quos re</td>\n",
       "      <td>0</td>\n",
       "      <td>0</td>\n",
       "    </tr>\n",
       "    <tr>\n",
       "      <th>2</th>\n",
       "      <td>1</td>\n",
       "      <td>85</td>\n",
       "      <td>Alias laboriosam sapiente e</td>\n",
       "      <td>0</td>\n",
       "      <td>0</td>\n",
       "    </tr>\n",
       "  </tbody>\n",
       "</table>\n",
       "</div>"
      ],
      "text/plain": [
       "   character_id  item_id                         name  value  weight\n",
       "0             1       20                Dolores rem v      0       0\n",
       "1             1       58                      Quos re      0       0\n",
       "2             1       85  Alias laboriosam sapiente e      0       0"
      ]
     },
     "execution_count": 14,
     "metadata": {},
     "output_type": "execute_result"
    }
   ],
   "source": [
    "# Show items of character 1\n",
    "sql_df('''\n",
    "    SELECT character_id, ai.item_id, name, value, weight, power, weapon\n",
    "    FROM charactercreator_character_inventory AS ci \n",
    "    JOIN armory_item AS ai ON ci.item_id=ai.item_id\n",
    "    LEFT JOIN (SELECT *, True as weapon FROM armory_weapon) \n",
    "    AS aw on aw.item_ptr_id = ai.item_id\n",
    "    WHERE ci.character_id=1\n",
    "    ORDER BY ai.item_id\n",
    "    ''').dropna(1)"
   ]
  },
  {
   "cell_type": "code",
   "execution_count": 15,
   "metadata": {},
   "outputs": [
    {
     "data": {
      "text/plain": [
       "{'_id': ObjectId('5dc3bd315d4910a3230f05a5'),\n",
       " 'character_id': 1,\n",
       " 'name': 'Aliquid iste optio reiciendi',\n",
       " 'level': 0,\n",
       " 'exp': 0,\n",
       " 'hp': 10,\n",
       " 'strength': 1,\n",
       " 'intelligence': 1,\n",
       " 'dexterity': 1,\n",
       " 'wisdom': 1,\n",
       " 'classes': ['fighter'],\n",
       " 'fighter': True,\n",
       " 'items': [{'item_id': 20, 'name': 'Dolores rem v', 'value': 0, 'weight': 0},\n",
       "  {'item_id': 58, 'name': 'Quos re', 'value': 0, 'weight': 0},\n",
       "  {'item_id': 85,\n",
       "   'name': 'Alias laboriosam sapiente e',\n",
       "   'value': 0,\n",
       "   'weight': 0}],\n",
       " 'rage': 100,\n",
       " 'using_shield': 0}"
      ]
     },
     "execution_count": 15,
     "metadata": {},
     "output_type": "execute_result"
    }
   ],
   "source": [
    "char_record.find_one({'character_id': 1})"
   ]
  },
  {
   "cell_type": "code",
   "execution_count": 16,
   "metadata": {},
   "outputs": [
    {
     "data": {
      "text/html": [
       "<div>\n",
       "<style scoped>\n",
       "    .dataframe tbody tr th:only-of-type {\n",
       "        vertical-align: middle;\n",
       "    }\n",
       "\n",
       "    .dataframe tbody tr th {\n",
       "        vertical-align: top;\n",
       "    }\n",
       "\n",
       "    .dataframe thead th {\n",
       "        text-align: right;\n",
       "    }\n",
       "</style>\n",
       "<table border=\"1\" class=\"dataframe\">\n",
       "  <thead>\n",
       "    <tr style=\"text-align: right;\">\n",
       "      <th></th>\n",
       "      <th>character_id</th>\n",
       "      <th>item_id</th>\n",
       "      <th>name</th>\n",
       "      <th>value</th>\n",
       "      <th>weight</th>\n",
       "      <th>power</th>\n",
       "      <th>weapon</th>\n",
       "    </tr>\n",
       "  </thead>\n",
       "  <tbody>\n",
       "    <tr>\n",
       "      <th>0</th>\n",
       "      <td>5</td>\n",
       "      <td>7</td>\n",
       "      <td>Omnis</td>\n",
       "      <td>0</td>\n",
       "      <td>0</td>\n",
       "      <td>NaN</td>\n",
       "      <td>NaN</td>\n",
       "    </tr>\n",
       "    <tr>\n",
       "      <th>1</th>\n",
       "      <td>5</td>\n",
       "      <td>96</td>\n",
       "      <td>Commodi deserunt in illo</td>\n",
       "      <td>0</td>\n",
       "      <td>0</td>\n",
       "      <td>NaN</td>\n",
       "      <td>NaN</td>\n",
       "    </tr>\n",
       "    <tr>\n",
       "      <th>2</th>\n",
       "      <td>5</td>\n",
       "      <td>140</td>\n",
       "      <td>Quos nihil quibusdam</td>\n",
       "      <td>0</td>\n",
       "      <td>0</td>\n",
       "      <td>0.0</td>\n",
       "      <td>1.0</td>\n",
       "    </tr>\n",
       "    <tr>\n",
       "      <th>3</th>\n",
       "      <td>5</td>\n",
       "      <td>145</td>\n",
       "      <td>Corporis fug</td>\n",
       "      <td>0</td>\n",
       "      <td>0</td>\n",
       "      <td>0.0</td>\n",
       "      <td>1.0</td>\n",
       "    </tr>\n",
       "  </tbody>\n",
       "</table>\n",
       "</div>"
      ],
      "text/plain": [
       "   character_id  item_id                      name  value  weight  power  \\\n",
       "0             5        7                     Omnis      0       0    NaN   \n",
       "1             5       96  Commodi deserunt in illo      0       0    NaN   \n",
       "2             5      140      Quos nihil quibusdam      0       0    0.0   \n",
       "3             5      145              Corporis fug      0       0    0.0   \n",
       "\n",
       "   weapon  \n",
       "0     NaN  \n",
       "1     NaN  \n",
       "2     1.0  \n",
       "3     1.0  "
      ]
     },
     "execution_count": 16,
     "metadata": {},
     "output_type": "execute_result"
    }
   ],
   "source": [
    "# Show items of character 5 (someone with weapon)\n",
    "sql_df('''\n",
    "    SELECT character_id, ai.item_id, name, value, weight, power, weapon\n",
    "    FROM charactercreator_character_inventory AS ci \n",
    "    JOIN armory_item AS ai ON ci.item_id=ai.item_id\n",
    "    LEFT JOIN (SELECT *, True as weapon FROM armory_weapon) \n",
    "    AS aw on aw.item_ptr_id = ai.item_id\n",
    "    WHERE character_id=5\n",
    "    ORDER BY ai.item_id\n",
    "    ''')\n"
   ]
  },
  {
   "cell_type": "code",
   "execution_count": 17,
   "metadata": {},
   "outputs": [
    {
     "data": {
      "text/plain": [
       "{'_id': ObjectId('5dc3bd315d4910a3230f05a9'),\n",
       " 'character_id': 5,\n",
       " 'name': 'At id recusandae expl',\n",
       " 'level': 0,\n",
       " 'exp': 0,\n",
       " 'hp': 10,\n",
       " 'strength': 1,\n",
       " 'intelligence': 1,\n",
       " 'dexterity': 1,\n",
       " 'wisdom': 1,\n",
       " 'classes': ['fighter'],\n",
       " 'fighter': True,\n",
       " 'items': [{'item_id': 7, 'name': 'Omnis', 'value': 0, 'weight': 0},\n",
       "  {'item_id': 96, 'name': 'Commodi deserunt in illo', 'value': 0, 'weight': 0},\n",
       "  {'item_id': 140,\n",
       "   'name': 'Quos nihil quibusdam',\n",
       "   'value': 0,\n",
       "   'weight': 0,\n",
       "   'power': 0.0,\n",
       "   'weapon': True},\n",
       "  {'item_id': 145,\n",
       "   'name': 'Corporis fug',\n",
       "   'value': 0,\n",
       "   'weight': 0,\n",
       "   'power': 0.0,\n",
       "   'weapon': True}],\n",
       " 'rage': 100,\n",
       " 'using_shield': 0}"
      ]
     },
     "execution_count": 17,
     "metadata": {},
     "output_type": "execute_result"
    }
   ],
   "source": [
    "char_record.find_one({'character_id': 5})"
   ]
  },
  {
   "cell_type": "code",
   "execution_count": 18,
   "metadata": {},
   "outputs": [
    {
     "data": {
      "text/plain": [
       "[{'item_id': 7, 'name': 'Omnis', 'value': 0, 'weight': 0},\n",
       " {'item_id': 96, 'name': 'Commodi deserunt in illo', 'value': 0, 'weight': 0},\n",
       " {'item_id': 140,\n",
       "  'name': 'Quos nihil quibusdam',\n",
       "  'value': 0,\n",
       "  'weight': 0,\n",
       "  'power': 0.0,\n",
       "  'weapon': True},\n",
       " {'item_id': 145,\n",
       "  'name': 'Corporis fug',\n",
       "  'value': 0,\n",
       "  'weight': 0,\n",
       "  'power': 0.0,\n",
       "  'weapon': True}]"
      ]
     },
     "execution_count": 18,
     "metadata": {},
     "output_type": "execute_result"
    }
   ],
   "source": [
    "char_record.find_one({'character_id': 5})['items']"
   ]
  },
  {
   "cell_type": "markdown",
   "metadata": {},
   "source": [
    "# Queries!"
   ]
  },
  {
   "cell_type": "markdown",
   "metadata": {},
   "source": [
    "## How many characters are there in total\n"
   ]
  },
  {
   "cell_type": "code",
   "execution_count": 19,
   "metadata": {},
   "outputs": [
    {
     "data": {
      "text/plain": [
       "302"
      ]
     },
     "execution_count": 19,
     "metadata": {},
     "output_type": "execute_result"
    }
   ],
   "source": [
    "char_record.count_documents({})\n"
   ]
  },
  {
   "cell_type": "markdown",
   "metadata": {},
   "source": [
    "## How many characters per class\n"
   ]
  },
  {
   "cell_type": "code",
   "execution_count": 20,
   "metadata": {},
   "outputs": [
    {
     "name": "stdout",
     "output_type": "stream",
     "text": [
      "cleric count: 75\n",
      "fighter count: 68\n",
      "mage count: 108\n",
      "thief count: 51\n",
      "necromancer count: 11\n"
     ]
    }
   ],
   "source": [
    "# Multiple queries\n",
    "for cls in base_classes:\n",
    "    cls_name = cls.split('_')[-1]\n",
    "    cnt = char_record.count_documents({cls_name: True})\n",
    "    print(f'{cls_name} count: {cnt}')"
   ]
  },
  {
   "cell_type": "code",
   "execution_count": 21,
   "metadata": {},
   "outputs": [
    {
     "data": {
      "text/plain": [
       "[{'_id': '',\n",
       "  'cleric': 75,\n",
       "  'fighter': 68,\n",
       "  'mage': 108,\n",
       "  'thief': 51,\n",
       "  'necromancer': 11}]"
      ]
     },
     "execution_count": 21,
     "metadata": {},
     "output_type": "execute_result"
    }
   ],
   "source": [
    "# Single query\n",
    "# You may also write a query builder to make the code \n",
    "# shorter/less repetitive\n",
    "pipeline = [\n",
    "    {'$project': {'character_id': 1, 'cleric':\n",
    "                    {'$cond': [ { '$eq': [\"$cleric\", True] }, 1, 0]},\n",
    "                    'fighter': \n",
    "                    {'$cond': [ { '$eq': [\"$fighter\", True] }, 1, 0]},\n",
    "                    'mage': \n",
    "                    {'$cond': [ { '$eq': [\"$mage\", True] }, 1, 0]},\n",
    "                    'thief': \n",
    "                    {'$cond': [ { '$eq': [\"$thief\", True] }, 1, 0]},\n",
    "                    'necromancer': \n",
    "                    {'$cond': [ { '$eq': [\"$necromancer\", True] }, 1, 0]}}},\n",
    "        \n",
    "    {'$group': {'_id': '', 'cleric': {'$sum':'$cleric'},\n",
    "                'fighter': {'$sum':'$fighter'},\n",
    "                'mage': {'$sum':'$mage'},\n",
    "                'thief': {'$sum':'$thief'},\n",
    "                'necromancer': {'$sum':'$necromancer'} }},\n",
    "    {'$sort': {'_id':1}},\n",
    "]\n",
    "list(char_record.aggregate(pipeline))"
   ]
  },
  {
   "cell_type": "markdown",
   "metadata": {},
   "source": [
    "## How many of the Items are weapons? How many are not?\n"
   ]
  },
  {
   "cell_type": "code",
   "execution_count": 22,
   "metadata": {},
   "outputs": [
    {
     "data": {
      "text/plain": [
       "[{'Total weapons': 203}]"
      ]
     },
     "execution_count": 22,
     "metadata": {},
     "output_type": "execute_result"
    }
   ],
   "source": [
    "pipeline = [\n",
    "    {'$unwind': '$items'},\n",
    "    {'$match': {'items.weapon': True}},\n",
    "    {'$count': \"Total weapons\"}\n",
    "]\n",
    "list(char_record.aggregate(pipeline))"
   ]
  },
  {
   "cell_type": "code",
   "execution_count": 23,
   "metadata": {},
   "outputs": [
    {
     "data": {
      "text/plain": [
       "[{'Total Non-weapons': 695}]"
      ]
     },
     "execution_count": 23,
     "metadata": {},
     "output_type": "execute_result"
    }
   ],
   "source": [
    "pipeline = [\n",
    "    {'$unwind': '$items'},\n",
    "    {'$match': {'items.weapon': {'$ne':True}}},\n",
    "    {'$count': \"Total Non-weapons\"}\n",
    "]\n",
    "list(char_record.aggregate(pipeline))"
   ]
  },
  {
   "cell_type": "markdown",
   "metadata": {},
   "source": [
    "## How many Items does each character have? (Return first 20 rows)\n"
   ]
  },
  {
   "cell_type": "code",
   "execution_count": 24,
   "metadata": {},
   "outputs": [
    {
     "data": {
      "text/plain": [
       "[{'_id': 1, 'name': 'Aliquid iste optio reiciendi', 'item_count': 3},\n",
       " {'_id': 2, 'name': 'Optio dolorem ex a', 'item_count': 3},\n",
       " {'_id': 3, 'name': 'Minus c', 'item_count': 2},\n",
       " {'_id': 4, 'name': 'Sit ut repr', 'item_count': 4},\n",
       " {'_id': 5, 'name': 'At id recusandae expl', 'item_count': 4},\n",
       " {'_id': 6, 'name': 'Non nobis et of', 'item_count': 1},\n",
       " {'_id': 7, 'name': 'Perferendis', 'item_count': 5},\n",
       " {'_id': 8, 'name': 'Accusantium amet quidem eve', 'item_count': 3},\n",
       " {'_id': 9, 'name': 'Sed nostrum inventore error m', 'item_count': 4},\n",
       " {'_id': 10, 'name': 'Harum repellendus omnis od', 'item_count': 4},\n",
       " {'_id': 11, 'name': 'Itaque ut commodi,', 'item_count': 3},\n",
       " {'_id': 12, 'name': 'Molestiae quis', 'item_count': 3},\n",
       " {'_id': 13, 'name': 'Ali', 'item_count': 4},\n",
       " {'_id': 14, 'name': 'Tempora quod optio possimus il', 'item_count': 4},\n",
       " {'_id': 15, 'name': 'Sed itaque beatae pari', 'item_count': 4},\n",
       " {'_id': 16, 'name': 'Quam dolor', 'item_count': 1},\n",
       " {'_id': 17, 'name': 'Molestias expedita', 'item_count': 5},\n",
       " {'_id': 18, 'name': 'Lauda', 'item_count': 5},\n",
       " {'_id': 19, 'name': 'Incidunt sint perferen', 'item_count': 3},\n",
       " {'_id': 20, 'name': 'Laboriosa', 'item_count': 1}]"
      ]
     },
     "execution_count": 24,
     "metadata": {},
     "output_type": "execute_result"
    }
   ],
   "source": [
    "pipeline = [\n",
    "    {'$project': {'_id': '$character_id', 'name': '$name', 'item_count': {'$size': '$items'}}},\n",
    "    { '$limit': 20 }\n",
    "]\n",
    "list(char_record.aggregate(pipeline))"
   ]
  },
  {
   "cell_type": "markdown",
   "metadata": {},
   "source": [
    "## How many Weapons does each character have? (Return first 20 rows)¶\n"
   ]
  },
  {
   "cell_type": "code",
   "execution_count": 16,
   "metadata": {},
   "outputs": [
    {
     "data": {
      "text/plain": [
       "[{'_id': 1, 'name': 'Aliquid iste optio reiciendi', 'weapons_count': 0},\n",
       " {'_id': 2, 'name': 'Optio dolorem ex a', 'weapons_count': 0},\n",
       " {'_id': 3, 'name': 'Minus c', 'weapons_count': 0},\n",
       " {'_id': 4, 'name': 'Sit ut repr', 'weapons_count': 0},\n",
       " {'_id': 5, 'name': 'At id recusandae expl', 'weapons_count': 2},\n",
       " {'_id': 6, 'name': 'Non nobis et of', 'weapons_count': 0},\n",
       " {'_id': 7, 'name': 'Perferendis', 'weapons_count': 1},\n",
       " {'_id': 8, 'name': 'Accusantium amet quidem eve', 'weapons_count': 0},\n",
       " {'_id': 9, 'name': 'Sed nostrum inventore error m', 'weapons_count': 0},\n",
       " {'_id': 10, 'name': 'Harum repellendus omnis od', 'weapons_count': 0},\n",
       " {'_id': 11, 'name': 'Itaque ut commodi,', 'weapons_count': 1},\n",
       " {'_id': 12, 'name': 'Molestiae quis', 'weapons_count': 0},\n",
       " {'_id': 13, 'name': 'Ali', 'weapons_count': 0},\n",
       " {'_id': 14, 'name': 'Tempora quod optio possimus il', 'weapons_count': 0},\n",
       " {'_id': 15, 'name': 'Sed itaque beatae pari', 'weapons_count': 0},\n",
       " {'_id': 16, 'name': 'Quam dolor', 'weapons_count': 0},\n",
       " {'_id': 17, 'name': 'Molestias expedita', 'weapons_count': 0},\n",
       " {'_id': 18, 'name': 'Lauda', 'weapons_count': 0},\n",
       " {'_id': 19, 'name': 'Incidunt sint perferen', 'weapons_count': 0},\n",
       " {'_id': 20, 'name': 'Laboriosa', 'weapons_count': 1}]"
      ]
     },
     "execution_count": 16,
     "metadata": {},
     "output_type": "execute_result"
    }
   ],
   "source": [
    "pipeline = [\n",
    "    {'$unwind': '$items'},\n",
    "    {'$project': {'character_id': 1, 'name': '$name', 'weapons': \n",
    "                  {'$cond': [ { '$eq': [\"$items.weapon\", True] }, 1, 0]}}},\n",
    "    {'$group': {'_id': '$character_id', 'name': {'$first': '$name'},  \n",
    "                'weapons_count': {'$sum':'$weapons'} }},\n",
    "    {'$sort': {'_id':1}},\n",
    "    { '$limit': 20 }\n",
    "]\n",
    "list(char_record.aggregate(pipeline))"
   ]
  },
  {
   "cell_type": "markdown",
   "metadata": {},
   "source": [
    "## On average, how many items does each Character have?"
   ]
  },
  {
   "cell_type": "code",
   "execution_count": 26,
   "metadata": {},
   "outputs": [
    {
     "data": {
      "text/plain": [
       "[{'_id': '', 'Average Items': 2.9735099337748343}]"
      ]
     },
     "execution_count": 26,
     "metadata": {},
     "output_type": "execute_result"
    }
   ],
   "source": [
    "pipeline = [\n",
    "    {'$unwind': '$items'},\n",
    "    {'$group': {'_id': '$character_id', 'count':{'$sum':1}}},\n",
    "    {'$group': {'_id':'', 'Average Items':{'$avg':'$count'}}},\n",
    "]\n",
    "list(char_record.aggregate(pipeline))"
   ]
  },
  {
   "cell_type": "markdown",
   "metadata": {},
   "source": [
    "## On average, how many weapons does each Character have?"
   ]
  },
  {
   "cell_type": "code",
   "execution_count": 27,
   "metadata": {},
   "outputs": [
    {
     "data": {
      "text/plain": [
       "[{'_id': '', 'Average weapons': 0.6721854304635762}]"
      ]
     },
     "execution_count": 27,
     "metadata": {},
     "output_type": "execute_result"
    }
   ],
   "source": [
    "pipeline = [\n",
    "    {'$unwind': '$items'},\n",
    "    {'$project': {'character_id': 1, 'weapons': \n",
    "                  {'$cond': [ { '$eq': [\"$items.weapon\", True] }, 1, 0]}}},\n",
    "    {'$group': {'_id': '$character_id', 'weapons': {'$sum':'$weapons'} }},\n",
    "    {'$group': {'_id':'', 'Average weapons':{'$avg':'$weapons'}}},\n",
    "    \n",
    "]\n",
    "list(char_record.aggregate(pipeline))"
   ]
  }
 ],
 "metadata": {
  "kernelspec": {
   "display_name": "Python 3",
   "language": "python",
   "name": "python3"
  },
  "language_info": {
   "codemirror_mode": {
    "name": "ipython",
    "version": 3
   },
   "file_extension": ".py",
   "mimetype": "text/x-python",
   "name": "python",
   "nbconvert_exporter": "python",
   "pygments_lexer": "ipython3",
   "version": "3.7.4"
  }
 },
 "nbformat": 4,
 "nbformat_minor": 2
}
